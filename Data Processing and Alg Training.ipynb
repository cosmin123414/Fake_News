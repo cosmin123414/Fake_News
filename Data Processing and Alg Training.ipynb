{
 "cells": [
  {
   "cell_type": "code",
   "execution_count": 1,
   "id": "186cc03a",
   "metadata": {},
   "outputs": [
    {
     "name": "stderr",
     "output_type": "stream",
     "text": [
      "[nltk_data] Downloading package stopwords to\n",
      "[nltk_data]     C:\\Users\\cosmi\\AppData\\Roaming\\nltk_data...\n",
      "[nltk_data]   Package stopwords is already up-to-date!\n",
      "[nltk_data] Downloading package punkt to\n",
      "[nltk_data]     C:\\Users\\cosmi\\AppData\\Roaming\\nltk_data...\n",
      "[nltk_data]   Package punkt is already up-to-date!\n",
      "[nltk_data] Downloading package wordnet to\n",
      "[nltk_data]     C:\\Users\\cosmi\\AppData\\Roaming\\nltk_data...\n",
      "[nltk_data]   Package wordnet is already up-to-date!\n"
     ]
    },
    {
     "data": {
      "text/plain": [
       "True"
      ]
     },
     "execution_count": 1,
     "metadata": {},
     "output_type": "execute_result"
    }
   ],
   "source": [
    "import pandas as pd\n",
    "import numpy as np\n",
    "import nltk\n",
    "import string\n",
    "from nltk.corpus import stopwords\n",
    "from sklearn.feature_extraction.text import TfidfVectorizer\n",
    "nltk.download('stopwords')\n",
    "nltk.download('punkt')\n",
    "nltk.download('wordnet')"
   ]
  },
  {
   "cell_type": "code",
   "execution_count": 2,
   "id": "df5ff32b",
   "metadata": {},
   "outputs": [],
   "source": [
    "real_news = pd.read_csv('/Users/cosmi/OneDrive/Desktop/True.csv')\n",
    "fake_news = pd.read_csv('/Users/cosmi/OneDrive/Desktop/Fake.csv')\n",
    "\n",
    "real_news['label'] = 1\n",
    "fake_news['label'] = 0\n",
    "\n",
    "def format_data(data):\n",
    "   \n",
    "    #Join title and text into a single column\n",
    "    data['text'] = data['title'] + data['text']\n",
    "    \n",
    "    #Keep only the text and label columns\n",
    "    data = data[['text','label']]\n",
    "    return data\n",
    "    \n",
    "real_news = format_data(real_news)\n",
    "fake_news = format_data(fake_news)\n",
    "\n",
    "\n",
    "#Merge both datasets into a single dataset\n",
    "news_data = pd.concat([real_news, fake_news])"
   ]
  },
  {
   "cell_type": "code",
   "execution_count": 3,
   "id": "1ca325bd",
   "metadata": {},
   "outputs": [],
   "source": [
    "news_data['text'] = news_data['text'].fillna('')\n",
    "\n",
    "def clean_text(text):\n",
    "    \n",
    "    #convert to lowercase\n",
    "    text = text.lower()\n",
    "    \n",
    "    #remove punctuation\n",
    "    text = ''.join(ch for ch in text if ch not in string.punctuation)\n",
    "    \n",
    "    #remove stopwords\n",
    "    stop = stopwords.words('english')\n",
    "    text = ' '.join(word for word in text.split() if word not in stop)\n",
    "    \n",
    "    #remove non-ASCII characters\n",
    "    text = ''.join(ch for ch in text if ord(ch)<128)\n",
    "    \n",
    "    #remove apostrophes\n",
    "    text = text.replace(\"'\", \"\")\n",
    "    \n",
    "    #remove single characters \n",
    "    ' '.join(word for word in text.split() if len(word) > 1 )\n",
    "    \n",
    "    return text\n",
    "        \n",
    "news_data['text'] = news_data['text'].apply(clean_text)"
   ]
  },
  {
   "cell_type": "code",
   "execution_count": 4,
   "id": "da8dd90f",
   "metadata": {},
   "outputs": [],
   "source": [
    "#Tokenization \n",
    "news_data['text'] = news_data['text'].apply(nltk.word_tokenize)"
   ]
  },
  {
   "cell_type": "code",
   "execution_count": 5,
   "id": "211ff603",
   "metadata": {},
   "outputs": [],
   "source": [
    "#Lemmatization\n",
    "\n",
    "lemmatizer = nltk.stem.WordNetLemmatizer()\n",
    "\n",
    "def lemmatize(tokens):\n",
    "    return [lemmatizer.lemmatize(token) for token in tokens]\n",
    "\n",
    "news_data['text'] = news_data['text'].apply(lemmatize)"
   ]
  },
  {
   "cell_type": "code",
   "execution_count": 6,
   "id": "2dd6e4e1",
   "metadata": {},
   "outputs": [],
   "source": [
    "#Train, Test split\n",
    "from sklearn.model_selection import train_test_split\n",
    "\n",
    "x_train, x_test, y_train, y_test = train_test_split(news_data['text'], news_data['label'], test_size=0.3, \n",
    "                                                    stratify=news_data['label'])"
   ]
  },
  {
   "cell_type": "code",
   "execution_count": 7,
   "id": "08ad8f71",
   "metadata": {},
   "outputs": [],
   "source": [
    "#td-idf vectorization \n",
    "\n",
    "def identity_function(text):\n",
    "    return text\n",
    "\n",
    "vectorizer = TfidfVectorizer(tokenizer = identity_function, lowercase = False, ngram_range = (1,3))\n",
    "\n",
    "x_train_tfidf = vectorizer.fit_transform(x_train) #Only fit vectorizer to train data\n",
    "x_test_tfidf = vectorizer.transform(x_test) \n"
   ]
  },
  {
   "cell_type": "code",
   "execution_count": 8,
   "id": "8ebe9b92",
   "metadata": {},
   "outputs": [],
   "source": [
    "y_train = y_train.to_numpy()\n",
    "y_test = y_test.to_numpy()"
   ]
  },
  {
   "cell_type": "code",
   "execution_count": 9,
   "id": "676dc5e4",
   "metadata": {},
   "outputs": [
    {
     "data": {
      "text/plain": [
       "<1x8903248 sparse matrix of type '<class 'numpy.float64'>'\n",
       "\twith 0 stored elements in Compressed Sparse Row format>"
      ]
     },
     "execution_count": 9,
     "metadata": {},
     "output_type": "execute_result"
    }
   ],
   "source": [
    "#Preparing an input to be classified \n",
    "input_text = \"\"\n",
    "def prepare_input(text):\n",
    "       \n",
    "    text = clean_text(text)\n",
    "    text = nltk.word_tokenize(text)\n",
    "    text = lemmatize(text)\n",
    "    text = [text]\n",
    "    text = pd.Series(text)\n",
    "    text = vectorizer.transform(text)\n",
    "    return text\n",
    "    \n",
    "tfidf_input = prepare_input(input_text)\n",
    "tfidf_input"
   ]
  },
  {
   "cell_type": "markdown",
   "id": "b9acf3e3",
   "metadata": {},
   "source": [
    "# Logistic Regression Classifier"
   ]
  },
  {
   "cell_type": "code",
   "execution_count": 11,
   "id": "e323dfd9",
   "metadata": {
    "scrolled": true
   },
   "outputs": [
    {
     "data": {
      "text/plain": [
       "0.9852264291017075"
      ]
     },
     "execution_count": 11,
     "metadata": {},
     "output_type": "execute_result"
    }
   ],
   "source": [
    "#Model fitting and evaluation\n",
    "from sklearn.linear_model import LogisticRegression\n",
    "from sklearn.metrics import accuracy_score\n",
    "\n",
    "logReg_model = LogisticRegression()\n",
    "logReg_model.fit(x_train_tfidf, y_train)\n",
    "\n",
    "y_predictions = logReg_model.predict(x_test_tfidf)\n",
    "accuracy_score(y_test, y_predictions)"
   ]
  },
  {
   "cell_type": "markdown",
   "id": "375c85c4",
   "metadata": {},
   "source": [
    "# Passive Aggresive Classifier "
   ]
  },
  {
   "cell_type": "code",
   "execution_count": 12,
   "id": "41f6ff34",
   "metadata": {},
   "outputs": [
    {
     "data": {
      "text/plain": [
       "0.9932442464736452"
      ]
     },
     "execution_count": 12,
     "metadata": {},
     "output_type": "execute_result"
    }
   ],
   "source": [
    "from sklearn.linear_model import PassiveAggressiveClassifier\n",
    "pa_model = PassiveAggressiveClassifier()\n",
    "pa_model.fit(x_train_tfidf, y_train)\n",
    "\n",
    "y_predictions = pa_model.predict(x_test_tfidf)\n",
    "accuracy_score(y_test, y_predictions)"
   ]
  },
  {
   "cell_type": "markdown",
   "id": "76e9c3cd",
   "metadata": {},
   "source": [
    "# Random Forest Classifer"
   ]
  },
  {
   "cell_type": "code",
   "execution_count": 13,
   "id": "febb4805",
   "metadata": {},
   "outputs": [
    {
     "data": {
      "text/plain": [
       "0.9853006681514477"
      ]
     },
     "execution_count": 13,
     "metadata": {},
     "output_type": "execute_result"
    }
   ],
   "source": [
    "from sklearn.ensemble import RandomForestClassifier\n",
    "rf_model = RandomForestClassifier()\n",
    "rf_model.fit(x_train_tfidf, y_train)\n",
    "\n",
    "y_predictions = rf_model.predict(x_test_tfidf)\n",
    "accuracy_score(y_test, y_predictions)\n"
   ]
  },
  {
   "cell_type": "code",
   "execution_count": 14,
   "id": "fc9fcdd9",
   "metadata": {},
   "outputs": [],
   "source": [
    "#Saving Models \n",
    "import pickle\n",
    "lg = open('LogReg_Classifier.sav', 'wb')\n",
    "pa = open('PA_Classifier.sav', 'wb')\n",
    "rf = open('RF_Classifier.sav', 'wb')\n",
    "\n",
    "pickle.dump(logReg_model, lg)\n",
    "pickle.dump(pa_model, pa)\n",
    "pickle.dump(rf_model, rf)\n",
    "\n",
    "lg.close()\n",
    "pa.close()\n",
    "rf.close()"
   ]
  }
 ],
 "metadata": {
  "kernelspec": {
   "display_name": "Python 3",
   "language": "python",
   "name": "python3"
  },
  "language_info": {
   "codemirror_mode": {
    "name": "ipython",
    "version": 3
   },
   "file_extension": ".py",
   "mimetype": "text/x-python",
   "name": "python",
   "nbconvert_exporter": "python",
   "pygments_lexer": "ipython3",
   "version": "3.8.8"
  }
 },
 "nbformat": 4,
 "nbformat_minor": 5
}
